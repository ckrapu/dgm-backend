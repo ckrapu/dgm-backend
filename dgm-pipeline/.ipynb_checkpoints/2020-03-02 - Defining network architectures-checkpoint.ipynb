{
 "cells": [
  {
   "cell_type": "code",
   "execution_count": 1,
   "metadata": {},
   "outputs": [],
   "source": [
    "import tensorflow as tf\n",
    "import numpy as np\n",
    "from tensorflow.keras.layers import *\n",
    "from tensorflow.keras.activations import * "
   ]
  },
  {
   "cell_type": "markdown",
   "metadata": {},
   "source": [
    "# Standard ConvNets"
   ]
  },
  {
   "cell_type": "markdown",
   "metadata": {},
   "source": [
    "## VAE for MNIST"
   ]
  },
  {
   "cell_type": "markdown",
   "metadata": {},
   "source": [
    "### Decoder"
   ]
  },
  {
   "cell_type": "code",
   "execution_count": 2,
   "metadata": {},
   "outputs": [
    {
     "name": "stdout",
     "output_type": "stream",
     "text": [
      "Model: \"sequential\"\n",
      "_________________________________________________________________\n",
      "Layer (type)                 Output Shape              Param #   \n",
      "=================================================================\n",
      "dense (Dense)                (None, 128)               12928     \n",
      "_________________________________________________________________\n",
      "re_lu (ReLU)                 (None, 128)               0         \n",
      "_________________________________________________________________\n",
      "dense_1 (Dense)              (None, 128)               16512     \n",
      "_________________________________________________________________\n",
      "re_lu_1 (ReLU)               (None, 128)               0         \n",
      "_________________________________________________________________\n",
      "dense_2 (Dense)              (None, 6272)              809088    \n",
      "_________________________________________________________________\n",
      "re_lu_2 (ReLU)               (None, 6272)              0         \n",
      "_________________________________________________________________\n",
      "reshape (Reshape)            (None, 7, 7, 128)         0         \n",
      "_________________________________________________________________\n",
      "conv2d_transpose (Conv2DTran (None, 14, 14, 128)       147584    \n",
      "_________________________________________________________________\n",
      "re_lu_3 (ReLU)               (None, 14, 14, 128)       0         \n",
      "_________________________________________________________________\n",
      "conv2d (Conv2D)              (None, 14, 14, 128)       147584    \n",
      "_________________________________________________________________\n",
      "re_lu_4 (ReLU)               (None, 14, 14, 128)       0         \n",
      "_________________________________________________________________\n",
      "conv2d_transpose_1 (Conv2DTr (None, 28, 28, 128)       147584    \n",
      "_________________________________________________________________\n",
      "re_lu_5 (ReLU)               (None, 28, 28, 128)       0         \n",
      "_________________________________________________________________\n",
      "conv2d_1 (Conv2D)            (None, 28, 28, 1)         1153      \n",
      "=================================================================\n",
      "Total params: 1,282,433\n",
      "Trainable params: 1,282,433\n",
      "Non-trainable params: 0\n",
      "_________________________________________________________________\n"
     ]
    }
   ],
   "source": [
    "model = tf.keras.models.Sequential()\n",
    "model.add(Dense(128, input_dim=100))\n",
    "model.add(ReLU())\n",
    "model.add(Dense(128))\n",
    "model.add(ReLU())\n",
    "model.add(Dense(128 * 7 * 7))\n",
    "model.add(ReLU())\n",
    "model.add(Reshape((7, 7, 128), input_shape=(128 * 7 * 7,)))\n",
    "model.add(Conv2DTranspose(128, 3, strides=2, padding='same'))\n",
    "model.add(ReLU())\n",
    "model.add(Convolution2D(128, 3, padding='same'))\n",
    "model.add(ReLU())\n",
    "model.add(Conv2DTranspose(128, 3, strides=2, padding='same'))\n",
    "model.add(ReLU())\n",
    "model.add(Convolution2D(1, 3, padding='same'))\n",
    "model.summary()\n",
    "\n",
    "json_str = model.to_json()\n",
    "with open('../model_specs/network_specs/vae_decoder_mnist_3M.json','w') as dst:\n",
    "    dst.write(json_str)"
   ]
  },
  {
   "cell_type": "markdown",
   "metadata": {},
   "source": [
    "### Encoder"
   ]
  },
  {
   "cell_type": "code",
   "execution_count": 3,
   "metadata": {},
   "outputs": [
    {
     "name": "stdout",
     "output_type": "stream",
     "text": [
      "Model: \"sequential_1\"\n",
      "_________________________________________________________________\n",
      "Layer (type)                 Output Shape              Param #   \n",
      "=================================================================\n",
      "conv2d_2 (Conv2D)            (None, 14, 14, 128)       1280      \n",
      "_________________________________________________________________\n",
      "re_lu_6 (ReLU)               (None, 14, 14, 128)       0         \n",
      "_________________________________________________________________\n",
      "conv2d_transpose_2 (Conv2DTr (None, 14, 14, 128)       147584    \n",
      "_________________________________________________________________\n",
      "re_lu_7 (ReLU)               (None, 14, 14, 128)       0         \n",
      "_________________________________________________________________\n",
      "conv2d_3 (Conv2D)            (None, 7, 7, 128)         147584    \n",
      "_________________________________________________________________\n",
      "re_lu_8 (ReLU)               (None, 7, 7, 128)         0         \n",
      "_________________________________________________________________\n",
      "reshape_1 (Reshape)          (None, 6272)              0         \n",
      "_________________________________________________________________\n",
      "dense_3 (Dense)              (None, 128)               802944    \n",
      "_________________________________________________________________\n",
      "re_lu_9 (ReLU)               (None, 128)               0         \n",
      "_________________________________________________________________\n",
      "dense_4 (Dense)              (None, 128)               16512     \n",
      "_________________________________________________________________\n",
      "re_lu_10 (ReLU)              (None, 128)               0         \n",
      "_________________________________________________________________\n",
      "dense_5 (Dense)              (None, 50)                6450      \n",
      "=================================================================\n",
      "Total params: 1,122,354\n",
      "Trainable params: 1,122,354\n",
      "Non-trainable params: 0\n",
      "_________________________________________________________________\n"
     ]
    }
   ],
   "source": [
    "latent_dim=50\n",
    "model = tf.keras.models.Sequential()\n",
    "model.add(Conv2D(128,3,strides=(2,2),input_shape=(28,28,1),padding='same'))\n",
    "model.add(ReLU())\n",
    "model.add(Conv2DTranspose(128,3,strides=(1,1),padding='same'))  \n",
    "model.add(ReLU())\n",
    "model.add(Conv2D(128,3,strides=(2,2),padding='same'))\n",
    "model.add(ReLU())\n",
    "model.add(Reshape((128*7*7,)))\n",
    "model.add(Dense(128))\n",
    "model.add(ReLU())\n",
    "model.add(Dense(128))\n",
    "model.add(ReLU())\n",
    "model.add(Dense(latent_dim,activation='relu'))\n",
    "model.summary()\n",
    "json_str = model.to_json()\n",
    "with open('../model_specs/network_specs/vae_encoder_mnist_3M.json','w') as dst:\n",
    "    dst.write(json_str)"
   ]
  },
  {
   "cell_type": "markdown",
   "metadata": {},
   "source": [
    "## WGAN-GP for MNIST"
   ]
  },
  {
   "cell_type": "markdown",
   "metadata": {},
   "source": [
    "### Generator"
   ]
  },
  {
   "cell_type": "code",
   "execution_count": 5,
   "metadata": {},
   "outputs": [
    {
     "name": "stdout",
     "output_type": "stream",
     "text": [
      "Model: \"sequential_3\"\n",
      "_________________________________________________________________\n",
      "Layer (type)                 Output Shape              Param #   \n",
      "=================================================================\n",
      "dense_7 (Dense)              (None, 128)               12800     \n",
      "_________________________________________________________________\n",
      "batch_normalization (BatchNo (None, 128)               512       \n",
      "_________________________________________________________________\n",
      "re_lu_11 (ReLU)              (None, 128)               0         \n",
      "_________________________________________________________________\n",
      "dense_8 (Dense)              (None, 128)               16384     \n",
      "_________________________________________________________________\n",
      "batch_normalization_1 (Batch (None, 128)               512       \n",
      "_________________________________________________________________\n",
      "re_lu_12 (ReLU)              (None, 128)               0         \n",
      "_________________________________________________________________\n",
      "dense_9 (Dense)              (None, 6272)              802816    \n",
      "_________________________________________________________________\n",
      "batch_normalization_2 (Batch (None, 6272)              25088     \n",
      "_________________________________________________________________\n",
      "re_lu_13 (ReLU)              (None, 6272)              0         \n",
      "_________________________________________________________________\n",
      "reshape_2 (Reshape)          (None, 7, 7, 128)         0         \n",
      "_________________________________________________________________\n",
      "conv2d_transpose_3 (Conv2DTr (None, 14, 14, 128)       147456    \n",
      "_________________________________________________________________\n",
      "batch_normalization_3 (Batch (None, 14, 14, 128)       512       \n",
      "_________________________________________________________________\n",
      "re_lu_14 (ReLU)              (None, 14, 14, 128)       0         \n",
      "_________________________________________________________________\n",
      "conv2d_4 (Conv2D)            (None, 14, 14, 128)       147456    \n",
      "_________________________________________________________________\n",
      "batch_normalization_4 (Batch (None, 14, 14, 128)       512       \n",
      "_________________________________________________________________\n",
      "re_lu_15 (ReLU)              (None, 14, 14, 128)       0         \n",
      "_________________________________________________________________\n",
      "conv2d_transpose_4 (Conv2DTr (None, 28, 28, 128)       147456    \n",
      "_________________________________________________________________\n",
      "batch_normalization_5 (Batch (None, 28, 28, 128)       512       \n",
      "_________________________________________________________________\n",
      "re_lu_16 (ReLU)              (None, 28, 28, 128)       0         \n",
      "_________________________________________________________________\n",
      "conv2d_5 (Conv2D)            (None, 28, 28, 1)         513       \n",
      "=================================================================\n",
      "Total params: 1,302,529\n",
      "Trainable params: 1,288,705\n",
      "Non-trainable params: 13,824\n",
      "_________________________________________________________________\n"
     ]
    }
   ],
   "source": [
    "model = tf.keras.models.Sequential()\n",
    "model.add(Dense(128, input_shape=(100,), use_bias=False))\n",
    "model.add(BatchNormalization())\n",
    "model.add(ReLU())\n",
    "\n",
    "model.add(Dense(128, use_bias=False))\n",
    "model.add(BatchNormalization())\n",
    "model.add(ReLU())\n",
    "\n",
    "model.add(Dense(128 * 7 * 7, use_bias=False))\n",
    "model.add(BatchNormalization())\n",
    "model.add(ReLU())\n",
    "\n",
    "model.add(Reshape((7, 7, 128), input_shape=(128 * 7 * 7,)))\n",
    "\n",
    "model.add(Conv2DTranspose(128, 3, strides=2, padding='same', use_bias=False))\n",
    "model.add(BatchNormalization())\n",
    "model.add(ReLU())\n",
    "\n",
    "model.add(Convolution2D(128, 3, padding='same', use_bias=False))\n",
    "model.add(BatchNormalization())\n",
    "model.add(ReLU())\n",
    "\n",
    "model.add(Conv2DTranspose(128, 3, strides=2, padding='same', use_bias=False))\n",
    "model.add(BatchNormalization())\n",
    "model.add(ReLU())\n",
    "\n",
    "model.add(Convolution2D(1, 2, padding='same', activation='sigmoid'))\n",
    "model.summary()\n",
    "\n",
    "json_str = model.to_json()\n",
    "with open('../model_specs/network_specs/gan_generator_mnist_3M.json','w') as dst:\n",
    "    dst.write(json_str)"
   ]
  },
  {
   "cell_type": "markdown",
   "metadata": {},
   "source": [
    "### Discriminator"
   ]
  },
  {
   "cell_type": "code",
   "execution_count": null,
   "metadata": {},
   "outputs": [],
   "source": [
    "model = tf.keras.Sequential()\n",
    "model.add(Conv2D(128,3,use_bias=False,padding='same',input_shape=(28,28,1)))\n",
    "model.add(BatchNormalization())\n",
    "model.add(ReLU())\n",
    "\n",
    "model.add(Conv2D(128,5,strides=(2,2),use_bias=False,padding='same'))\n",
    "model.add(BatchNormalization())\n",
    "model.add(ReLU())\n",
    "\n",
    "model.add(Conv2D(128,5,use_bias=False,padding='same'))\n",
    "model.add(BatchNormalization())\n",
    "model.add(ReLU())\n",
    "\n",
    "model.add(Conv2D(128,5,strides=(2,2),use_bias=False,padding='same'))\n",
    "model.add(BatchNormalization())\n",
    "model.add(ReLU())\n",
    "\n",
    "model.add(Flatten())\n",
    "\n",
    "model.add(Dense(256, use_bias=False))\n",
    "model.add(BatchNormalization())\n",
    "model.add(ReLU())\n",
    "\n",
    "model.add(Dense(128, use_bias=False))\n",
    "model.add(BatchNormalization())\n",
    "model.add(ReLU())\n",
    "\n",
    "model.add(Dense(1))\n",
    "model.summary()\n",
    "\n",
    "json_str = model.to_json()\n",
    "with open('../model_specs/network_specs/gan_discriminator_mnist_3M.json','w') as dst:\n",
    "    dst.write(json_str)\n",
    "\n"
   ]
  }
 ],
 "metadata": {
  "kernelspec": {
   "display_name": "Python 3",
   "language": "python",
   "name": "python3"
  },
  "language_info": {
   "codemirror_mode": {
    "name": "ipython",
    "version": 3
   },
   "file_extension": ".py",
   "mimetype": "text/x-python",
   "name": "python",
   "nbconvert_exporter": "python",
   "pygments_lexer": "ipython3",
   "version": "3.7.4"
  }
 },
 "nbformat": 4,
 "nbformat_minor": 4
}
